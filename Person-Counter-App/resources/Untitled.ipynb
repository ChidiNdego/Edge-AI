{
 "cells": [
  {
   "cell_type": "code",
   "execution_count": 2,
   "metadata": {},
   "outputs": [],
   "source": [
    "import os"
   ]
  },
  {
   "cell_type": "code",
   "execution_count": 5,
   "metadata": {},
   "outputs": [
    {
     "name": "stdout",
     "output_type": "stream",
     "text": [
      "env: MODEL=frozen_inference_graph.xml\n",
      "env: DEVICE=CPU\n",
      "env: CPU_EXTENSION=/opt/intel/openvino/deployment_tools/inference_engine/lib/intel64/libcpu_extension_sse4.so\n",
      "env: INPUT=resources/Pedestrian_Detect_2_1_1.mp4\n",
      "env: PERF_COUNTS=0\n",
      "env: PROB_THRESHOLD=0.6\n"
     ]
    }
   ],
   "source": [
    "%env MODEL=frozen_inference_graph.xml\n",
    "%env DEVICE=CPU\n",
    "%env CPU_EXTENSION=/opt/intel/openvino/deployment_tools/inference_engine/lib/intel64/libcpu_extension_sse4.so\n",
    "%env INPUT=resources/Pedestrian_Detect_2_1_1.mp4\n",
    "%env PERF_COUNTS=0\n",
    "%env PROB_THRESHOLD=0.6"
   ]
  },
  {
   "cell_type": "code",
   "execution_count": 6,
   "metadata": {},
   "outputs": [],
   "source": [
    "import os\n",
    "import sys\n",
    "import time\n",
    "import socket\n",
    "import json\n",
    "import cv2"
   ]
  },
  {
   "cell_type": "code",
   "execution_count": 9,
   "metadata": {},
   "outputs": [
    {
     "ename": "SyntaxError",
     "evalue": "invalid syntax (<ipython-input-9-d735c85d9590>, line 1)",
     "output_type": "error",
     "traceback": [
      "\u001b[0;36m  File \u001b[0;32m\"<ipython-input-9-d735c85d9590>\"\u001b[0;36m, line \u001b[0;32m1\u001b[0m\n\u001b[0;31m    FROM ubuntu:16.04\u001b[0m\n\u001b[0m              ^\u001b[0m\n\u001b[0;31mSyntaxError\u001b[0m\u001b[0;31m:\u001b[0m invalid syntax\n"
     ]
    }
   ],
   "source": [
    "FROM ubuntu:16.04\n",
    "\n",
    "ENV LANG=C.UTF-8 LC_ALL=C.UTF-8\n",
    "ENV PATH /opt/conda/bin:$PATH\n",
    "\n",
    "RUN apt-get update --fix-missing && apt-get install -y wget bzip2 ca-certificates \\\n",
    "    libglib2.0-0 libxext6 libsm6 libxrender1 \\\n",
    "    git mercurial subversion\n",
    "\n",
    "RUN wget --quiet https://repo.anaconda.com/archive/Anaconda3-5.2.0-Linux-x86_64.sh -O ~/anaconda.sh && \\\n",
    "    /bin/bash ~/anaconda.sh -b -p /opt/conda && \\\n",
    "    rm ~/anaconda.sh && \\\n",
    "    ln -s /opt/conda/etc/profile.d/conda.sh /etc/profile.d/conda.sh && \\\n",
    "    echo \". /opt/conda/etc/profile.d/conda.sh\" >> ~/.bashrc && \\\n",
    "    echo \"conda activate base\" >> ~/.bashrc\n",
    "\n",
    "RUN apt-get install -y curl grep sed dpkg && \\\n",
    "    TINI_VERSION=`curl https://github.com/krallin/tini/releases/latest | grep -o \"/v.*\\\"\" | sed 's:^..\\(.*\\).$:\\1:'` && \\\n",
    "    curl -L \"https://github.com/krallin/tini/releases/download/v${TINI_VERSION}/tini_${TINI_VERSION}.deb\" > tini.deb && \\\n",
    "    dpkg -i tini.deb && \\\n",
    "    rm tini.deb\n",
    "RUN DEBIAN_FRONTEND=noninteractive apt-get -y install python-software-properties\n",
    "RUN DEBIAN_FRONTEND=noninteractive apt-get -y install software-properties-common\n",
    "RUN add-apt-repository -y ppa:jonathonf/gcc-7.2\n",
    "RUN apt-get update -y\n",
    "RUN apt-get install -y gcc-7\n",
    "RUN cd /usr/bin && ln -s gcc-7 gcc\n",
    "RUN conda install xeus-cling notebook -c QuantStack -c conda-forge -y\n",
    "\n",
    "RUN conda install -y -c QuantStack -c conda-forge notebook gtest cmake breathe xsimd xtensor xproperty xtensor xleaflet ipyleaflet  xeus-cling xwidgets xplot xtl widgetsnbextension bqplot\n",
    "RUN conda install -y nodejs\n",
    "RUN conda install -c hargup/label/pypi mosquitto"
   ]
  },
  {
   "cell_type": "code",
   "execution_count": 10,
   "metadata": {},
   "outputs": [
    {
     "ename": "ModuleNotFoundError",
     "evalue": "No module named 'paho'",
     "output_type": "error",
     "traceback": [
      "\u001b[0;31m---------------------------------------------------------------------------\u001b[0m",
      "\u001b[0;31mModuleNotFoundError\u001b[0m                       Traceback (most recent call last)",
      "\u001b[0;32m<ipython-input-10-9a420ea74316>\u001b[0m in \u001b[0;36m<module>\u001b[0;34m()\u001b[0m\n\u001b[1;32m      1\u001b[0m \u001b[0;32mimport\u001b[0m \u001b[0mlogging\u001b[0m \u001b[0;32mas\u001b[0m \u001b[0mlog\u001b[0m\u001b[0;34m\u001b[0m\u001b[0m\n\u001b[0;32m----> 2\u001b[0;31m \u001b[0;32mimport\u001b[0m \u001b[0mpaho\u001b[0m\u001b[0;34m.\u001b[0m\u001b[0mmqtt\u001b[0m\u001b[0;34m.\u001b[0m\u001b[0mclient\u001b[0m \u001b[0;32mas\u001b[0m \u001b[0mmqtt\u001b[0m\u001b[0;34m\u001b[0m\u001b[0m\n\u001b[0m\u001b[1;32m      3\u001b[0m \u001b[0;34m\u001b[0m\u001b[0m\n\u001b[1;32m      4\u001b[0m \u001b[0;32mfrom\u001b[0m \u001b[0margparse\u001b[0m \u001b[0;32mimport\u001b[0m \u001b[0mArgumentParser\u001b[0m\u001b[0;34m\u001b[0m\u001b[0m\n\u001b[1;32m      5\u001b[0m \u001b[0;32mfrom\u001b[0m \u001b[0minference\u001b[0m \u001b[0;32mimport\u001b[0m \u001b[0mNetwork\u001b[0m\u001b[0;34m\u001b[0m\u001b[0m\n",
      "\u001b[0;31mModuleNotFoundError\u001b[0m: No module named 'paho'"
     ]
    }
   ],
   "source": [
    "import logging as log\n",
    "import paho.mqtt.client as mqtt\n",
    "\n",
    "from argparse import ArgumentParser\n",
    "from inference import Network"
   ]
  },
  {
   "cell_type": "code",
   "execution_count": null,
   "metadata": {},
   "outputs": [],
   "source": []
  }
 ],
 "metadata": {
  "kernelspec": {
   "display_name": "Python 3",
   "language": "python",
   "name": "python3"
  },
  "language_info": {
   "codemirror_mode": {
    "name": "ipython",
    "version": 3
   },
   "file_extension": ".py",
   "mimetype": "text/x-python",
   "name": "python",
   "nbconvert_exporter": "python",
   "pygments_lexer": "ipython3",
   "version": "3.6.3"
  }
 },
 "nbformat": 4,
 "nbformat_minor": 4
}
